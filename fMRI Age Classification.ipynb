{
 "cells": [
  {
   "cell_type": "markdown",
   "metadata": {},
   "source": [
    "# 1. Load the Dataset"
   ]
  },
  {
   "cell_type": "code",
   "execution_count": 2,
   "metadata": {},
   "outputs": [
    {
     "name": "stdout",
     "output_type": "stream",
     "text": [
      "[get_dataset_dir] Dataset found in /Users/anushamourshed/nilearn_data/development_fmri\n",
      "[get_dataset_dir] Dataset found in /Users/anushamourshed/nilearn_data/development_fmri/development_fmri\n",
      "[get_dataset_dir] Dataset found in /Users/anushamourshed/nilearn_data/development_fmri/development_fmri\n",
      "Number of subjects loaded: 155\n"
     ]
    }
   ],
   "source": [
    "from nilearn import datasets\n",
    "\n",
    "# Fetch the full dataset (all subjects)\n",
    "development_dataset = datasets.fetch_development_fmri(n_subjects=None)\n",
    "\n",
    "# Print dataset details\n",
    "print(f\"Number of subjects loaded: {len(development_dataset.func)}\")\n"
   ]
  },
  {
   "cell_type": "markdown",
   "metadata": {},
   "source": [
    "# 2. Extract Time Series Signals for ROIS"
   ]
  },
  {
   "cell_type": "code",
   "execution_count": 3,
   "metadata": {},
   "outputs": [
    {
     "name": "stdout",
     "output_type": "stream",
     "text": [
      "[get_dataset_dir] Dataset found in /Users/anushamourshed/nilearn_data/msdl_atlas\n",
      "Time-series shape for first subject: (168, 39)\n",
      "Total subjects processed: 155\n",
      "Files saved in: /Users/anushamourshed/time_series_data\n",
      "Nilearn cache directory: /Users/anushamourshed/nilearn_cache\n"
     ]
    }
   ],
   "source": [
    "import os\n",
    "import numpy as np\n",
    "from nilearn.maskers import NiftiMapsMasker\n",
    "\n",
    "# Fetch the MSDL atlas\n",
    "msdl_data = datasets.fetch_atlas_msdl()\n",
    "msdl_coords = msdl_data.region_coords  # Get ROI coordinates\n",
    "\n",
    "# Set cache directory in a writable location (Home directory)\n",
    "cache_dir = os.path.expanduser(\"~/nilearn_cache\")\n",
    "os.makedirs(cache_dir, exist_ok=True)\n",
    "\n",
    "# Initialize the masker to extract time series from ROIs\n",
    "masker = NiftiMapsMasker(\n",
    "    msdl_data.maps,\n",
    "    resampling_target=\"data\",\n",
    "    t_r=2,  # Repetition time\n",
    "    detrend=True,  # Remove trends from signal\n",
    "    low_pass=0.1, high_pass=0.01,  # Band-pass filtering\n",
    "    memory=cache_dir,  # Use custom cache directory\n",
    "    memory_level=1,\n",
    "    standardize=\"zscore_sample\",\n",
    "    standardize_confounds=True\n",
    ").fit()\n",
    "\n",
    "# Set save directory in a writable location\n",
    "save_dir = os.path.expanduser(\"~/time_series_data\")\n",
    "os.makedirs(save_dir, exist_ok=True)\n",
    "\n",
    "pooled_subjects = []\n",
    "subject_labels = []\n",
    "\n",
    "# Extract time-series data from fMRI scans\n",
    "for idx, (func_file, confound_file, label) in enumerate(zip(development_dataset.func, development_dataset.confounds, development_dataset.phenotypic[\"Child_Adult\"])):\n",
    "    save_path = os.path.join(save_dir, f\"subject_{idx}.npz\")\n",
    "\n",
    "    if os.path.exists(save_path):\n",
    "        # Load existing file to save time\n",
    "        data = np.load(save_path)\n",
    "        time_series = data[\"time_series\"]\n",
    "    else:\n",
    "        # Extract and save time-series\n",
    "        time_series = masker.transform(func_file, confounds=confound_file)\n",
    "        np.savez(save_path, time_series=time_series, label=label)\n",
    "\n",
    "    pooled_subjects.append(time_series)\n",
    "    subject_labels.append(label)\n",
    "\n",
    "# Print shape of extracted time-series for the first subject\n",
    "print(f\"Time-series shape for first subject: {pooled_subjects[0].shape}\")\n",
    "print(f\"Total subjects processed: {len(pooled_subjects)}\")\n",
    "print(f\"Files saved in: {save_dir}\")\n",
    "print(f\"Nilearn cache directory: {cache_dir}\")\n"
   ]
  },
  {
   "cell_type": "markdown",
   "metadata": {},
   "source": [
    "# 3. Compute Correlation Matrices"
   ]
  },
  {
   "cell_type": "code",
   "execution_count": 4,
   "metadata": {},
   "outputs": [
    {
     "name": "stdout",
     "output_type": "stream",
     "text": [
      "correlation correlation matrix shape: (155, 39, 39)\n",
      "partial correlation correlation matrix shape: (155, 39, 39)\n",
      "tangent correlation matrix shape: (155, 39, 39)\n"
     ]
    }
   ],
   "source": [
    "from nilearn.connectome import ConnectivityMeasure\n",
    "import numpy as np\n",
    "import os\n",
    "\n",
    "# Define correlation types (excluding tangent for now)\n",
    "correlation_types = [\"correlation\", \"partial correlation\"]\n",
    "save_dir = os.path.expanduser(\"~/time_series_data\")\n",
    "correlation_matrices = {kind: [] for kind in correlation_types}\n",
    "\n",
    "# Load all subjects' time-series data\n",
    "pooled_subjects = []\n",
    "for idx in range(155):  # Total subjects\n",
    "    file_path = os.path.join(save_dir, f\"subject_{idx}.npz\")\n",
    "    data = np.load(file_path)\n",
    "    time_series = np.array(data[\"time_series\"])\n",
    "    pooled_subjects.append(time_series)\n",
    "\n",
    "# Compute full & partial correlation per subject\n",
    "for kind in correlation_types:\n",
    "    connectivity = ConnectivityMeasure(kind=kind, standardize=\"zscore_sample\")\n",
    "    correlation_matrices[kind] = np.array([connectivity.fit_transform([ts])[0] for ts in pooled_subjects])\n",
    "\n",
    "# Compute tangent correlation for the entire group\n",
    "connectivity = ConnectivityMeasure(kind=\"tangent\", standardize=\"zscore_sample\")\n",
    "correlation_matrices[\"tangent\"] = connectivity.fit_transform(pooled_subjects)\n",
    "\n",
    "# Print matrix shapes\n",
    "for kind in correlation_matrices:\n",
    "    print(f\"{kind} correlation matrix shape: {correlation_matrices[kind].shape}\")\n"
   ]
  },
  {
   "cell_type": "markdown",
   "metadata": {},
   "source": [
    "# 4. Save Correlation Matrices"
   ]
  },
  {
   "cell_type": "code",
   "execution_count": 5,
   "metadata": {},
   "outputs": [
    {
     "name": "stdout",
     "output_type": "stream",
     "text": [
      "Correlation matrices saved in: /Users/anushamourshed/correlation_matrices\n"
     ]
    }
   ],
   "source": [
    "import os\n",
    "import numpy as np\n",
    "\n",
    "# Define save directory\n",
    "corr_save_dir = os.path.expanduser(\"~/correlation_matrices\")\n",
    "os.makedirs(corr_save_dir, exist_ok=True)\n",
    "\n",
    "# Save each correlation type\n",
    "for kind, matrices in correlation_matrices.items():\n",
    "    save_path = os.path.join(corr_save_dir, f\"{kind}_correlation_matrices.npz\")\n",
    "    np.savez(save_path, matrices=matrices)\n",
    "\n",
    "print(f\"Correlation matrices saved in: {corr_save_dir}\")\n"
   ]
  },
  {
   "cell_type": "code",
   "execution_count": 6,
   "metadata": {},
   "outputs": [
    {
     "name": "stdout",
     "output_type": "stream",
     "text": [
      "['tangent_correlation_matrices.npz', 'partial correlation_correlation_matrices.npz', 'correlation_correlation_matrices.npz']\n"
     ]
    }
   ],
   "source": [
    "import os\n",
    "corr_save_dir = os.path.expanduser(\"~/correlation_matrices\")\n",
    "print(os.listdir(corr_save_dir))  # Should list the saved files\n"
   ]
  },
  {
   "cell_type": "markdown",
   "metadata": {},
   "source": [
    "# 5. Visualize Correlation Matrices\n"
   ]
  },
  {
   "cell_type": "code",
   "execution_count": 7,
   "metadata": {},
   "outputs": [
    {
     "data": {
      "image/png": "[encoded data removed]",
      "text/plain": [
       "<Figure size 1500x500 with 6 Axes>"
      ]
     },
     "metadata": {},
     "output_type": "display_data"
    }
   ],
   "source": [
    "import numpy as np\n",
    "import matplotlib.pyplot as plt\n",
    "from nilearn import plotting\n",
    "import os\n",
    "\n",
    "# Load correlation matrices from saved files\n",
    "corr_save_dir = os.path.expanduser(\"~/correlation_matrices\")\n",
    "correlation_matrices = {}\n",
    "\n",
    "for kind in [\"correlation\", \"partial correlation\", \"tangent\"]:\n",
    "    file_path = os.path.join(corr_save_dir, f\"{kind}_correlation_matrices.npz\")\n",
    "    data = np.load(file_path)\n",
    "    correlation_matrices[kind] = data[\"matrices\"]\n",
    "\n",
    "# Select the first subject\n",
    "subject_idx = 0\n",
    "\n",
    "# Plot correlation matrices\n",
    "fig, axes = plt.subplots(1, 3, figsize=(15, 5))\n",
    "\n",
    "for i, kind in enumerate([\"correlation\", \"partial correlation\", \"tangent\"]):\n",
    "    matrix = correlation_matrices[kind][subject_idx]\n",
    "    plotting.plot_matrix(matrix, tri=\"lower\", axes=axes[i], title=f\"{kind} correlation\")\n",
    "\n",
    "plt.show()\n"
   ]
  },
  {
   "cell_type": "markdown",
   "metadata": {},
   "source": [
    "# 6. Check Correlation Values and Normalize"
   ]
  },
  {
   "cell_type": "code",
   "execution_count": 8,
   "metadata": {},
   "outputs": [
    {
     "name": "stdout",
     "output_type": "stream",
     "text": [
      "Correlation matrix value range: min=0.0009102461236479196, max=1.0\n"
     ]
    },
    {
     "data": {
      "text/plain": [
       "<Figure size 500x500 with 0 Axes>"
      ]
     },
     "metadata": {},
     "output_type": "display_data"
    },
    {
     "data": {
      "image/png": "[encoded data removed]",
      "text/plain": [
       "<Figure size 700x500 with 2 Axes>"
      ]
     },
     "metadata": {},
     "output_type": "display_data"
    }
   ],
   "source": [
    "import numpy as np\n",
    "import matplotlib.pyplot as plt\n",
    "from nilearn import plotting\n",
    "\n",
    "# Select one subject (e.g., first subject)\n",
    "subject_idx = 0\n",
    "\n",
    "# Load subject's correlation matrix (change type if needed: \"correlation\", \"partial correlation\", \"tangent\")\n",
    "corr_matrix = correlation_matrices[\"correlation\"][subject_idx]\n",
    "\n",
    "# Normalize: Take absolute values & set diagonal to 1\n",
    "corr_matrix = np.abs(corr_matrix)\n",
    "np.fill_diagonal(corr_matrix, 1)\n",
    "\n",
    "# Check value range\n",
    "print(f\"Correlation matrix value range: min={corr_matrix.min()}, max={corr_matrix.max()}\")\n",
    "\n",
    "# Visualize the normalized correlation matrix\n",
    "plt.figure(figsize=(5,5))\n",
    "plotting.plot_matrix(corr_matrix, tri=\"lower\", title=\"Normalized Correlation Matrix\")\n",
    "plt.show()\n"
   ]
  },
  {
   "cell_type": "markdown",
   "metadata": {},
   "source": [
    "Analysis of the Plot\n",
    "Range Check:\n",
    "\n",
    "The color scale shows values between 0 and ~0.75.\n",
    "This means most correlations are low to moderate.\n",
    "Threshold Selection:\n",
    "\n",
    "To keep meaningful connections, we should choose a threshold where weak connections (blue) are removed, but we don’t lose too much structure.\n",
    "Based on this plot, a reasonable starting point would be thresholds in the range of 0.2 to 0.5."
   ]
  },
  {
   "cell_type": "markdown",
   "metadata": {},
   "source": [
    "# 7. Apply a Threshold to Create an Adjacency Matrix"
   ]
  },
  {
   "cell_type": "code",
   "execution_count": 9,
   "metadata": {},
   "outputs": [
    {
     "data": {
      "text/plain": [
       "<Figure size 500x500 with 0 Axes>"
      ]
     },
     "metadata": {},
     "output_type": "display_data"
    },
    {
     "data": {
      "image/png": "[encoded data removed]",
      "text/plain": [
       "<Figure size 700x500 with 2 Axes>"
      ]
     },
     "metadata": {},
     "output_type": "display_data"
    },
    {
     "name": "stdout",
     "output_type": "stream",
     "text": [
      "Adjacency matrix shape: (39, 39)\n",
      "Number of edges: 153\n"
     ]
    }
   ],
   "source": [
    "import numpy as np\n",
    "import matplotlib.pyplot as plt\n",
    "from nilearn import plotting\n",
    "\n",
    "def threshold_correlation_matrix(corr_matrix, threshold):\n",
    "    \"\"\"Applies thresholding to convert correlation matrix into an adjacency matrix.\"\"\"\n",
    "    adjacency_matrix = np.where(corr_matrix >= threshold, corr_matrix, 0)\n",
    "    np.fill_diagonal(adjacency_matrix, 0)  # Remove self-connections\n",
    "    return adjacency_matrix\n",
    "\n",
    "# Apply threshold (set it to 0.3 for now)\n",
    "threshold = 0.3\n",
    "adjacency_matrix = threshold_correlation_matrix(corr_matrix, threshold)\n",
    "\n",
    "# Visualize adjacency matrix\n",
    "plt.figure(figsize=(5,5))\n",
    "plotting.plot_matrix(adjacency_matrix, tri=\"lower\", title=f\"Adjacency Matrix (Threshold {threshold})\")\n",
    "plt.show()\n",
    "\n",
    "# Print some stats\n",
    "print(f\"Adjacency matrix shape: {adjacency_matrix.shape}\")\n",
    "print(f\"Number of edges: {np.count_nonzero(adjacency_matrix) // 2}\")  # Since undirected graph\n"
   ]
  },
  {
   "cell_type": "markdown",
   "metadata": {},
   "source": [
    "# 8. Automate Thresholding for All Subjects"
   ]
  },
  {
   "cell_type": "code",
   "execution_count": 10,
   "metadata": {},
   "outputs": [
    {
     "name": "stdout",
     "output_type": "stream",
     "text": [
      "All adjacency matrices saved in: /Users/anushamourshed/graph_data\n"
     ]
    }
   ],
   "source": [
    "import os\n",
    "import numpy as np\n",
    "\n",
    "# Define save directory for graphs\n",
    "graph_save_dir = os.path.expanduser(\"~/graph_data\")\n",
    "os.makedirs(graph_save_dir, exist_ok=True)\n",
    "\n",
    "# Define thresholds\n",
    "thresholds = np.arange(0.1, 1.0, 0.1)  # [0.1, 0.2, ..., 0.9]\n",
    "\n",
    "def threshold_correlation_matrix(corr_matrix, threshold):\n",
    "    \"\"\"Applies thresholding to convert correlation matrix into an adjacency matrix.\"\"\"\n",
    "    adjacency_matrix = np.where(corr_matrix >= threshold, corr_matrix, 0)\n",
    "    np.fill_diagonal(adjacency_matrix, 0)  # Remove self-connections\n",
    "    return adjacency_matrix\n",
    "\n",
    "# Automate graph creation for all subjects and correlation types\n",
    "for kind in correlation_matrices:  # Iterate over correlation types\n",
    "    for threshold in thresholds:  # Iterate over thresholds\n",
    "        save_path = os.path.join(graph_save_dir, f\"{kind}_thresh_{threshold:.1f}.npz\")\n",
    "        \n",
    "        adjacency_matrices = np.array([\n",
    "            threshold_correlation_matrix(corr_matrix, threshold) \n",
    "            for corr_matrix in correlation_matrices[kind]\n",
    "        ])\n",
    "\n",
    "        # Save the adjacency matrices\n",
    "        np.savez(save_path, matrices=adjacency_matrices)\n",
    "\n",
    "print(f\"All adjacency matrices saved in: {graph_save_dir}\")\n"
   ]
  },
  {
   "cell_type": "markdown",
   "metadata": {},
   "source": [
    "# ✅CHECKPOINT\n",
    "- 155 subjects loaded & processed\n",
    "- Time-series extracted successfully\n",
    "- Correlation matrices computed & saved ((155, 39, 39))\n",
    "- Adjacency matrices generated & saved for all thresholds & correlation types"
   ]
  },
  {
   "cell_type": "markdown",
   "metadata": {},
   "source": [
    "# 9. Extract PCA Features"
   ]
  },
  {
   "cell_type": "code",
   "execution_count": 11,
   "metadata": {},
   "outputs": [
    {
     "name": "stdout",
     "output_type": "stream",
     "text": [
      "PCA features saved in: /Users/anushamourshed/graph_data/pca_features.npz\n"
     ]
    }
   ],
   "source": [
    "from sklearn.decomposition import PCA\n",
    "import numpy as np\n",
    "import os\n",
    "\n",
    "# Load saved time-series data\n",
    "time_series_dir = os.path.expanduser(\"~/time_series_data\")\n",
    "\n",
    "# Define number of PCA components\n",
    "n_pca_components = 10\n",
    "\n",
    "# Extract PCA features for all subjects\n",
    "pca_features = []\n",
    "for idx in range(155):\n",
    "    file_path = os.path.join(time_series_dir, f\"subject_{idx}.npz\")\n",
    "    data = np.load(file_path)\n",
    "    time_series = np.array(data[\"time_series\"])\n",
    "    \n",
    "    # Apply PCA\n",
    "    pca = PCA(n_components=n_pca_components)\n",
    "    pca_features.append(pca.fit_transform(time_series))\n",
    "\n",
    "pca_features = np.array(pca_features)\n",
    "\n",
    "# Save PCA features\n",
    "pca_save_path = os.path.expanduser(\"~/graph_data/pca_features.npz\")\n",
    "np.savez(pca_save_path, features=pca_features)\n",
    "\n",
    "print(f\"PCA features saved in: {pca_save_path}\")\n"
   ]
  },
  {
   "cell_type": "markdown",
   "metadata": {},
   "source": [
    "# 10. Extract Node Strength"
   ]
  },
  {
   "cell_type": "code",
   "execution_count": 12,
   "metadata": {},
   "outputs": [
    {
     "name": "stdout",
     "output_type": "stream",
     "text": [
      "Node strength features saved in: /Users/anushamourshed/graph_data/node_strengths.npz\n"
     ]
    }
   ],
   "source": [
    "# Extract node strength for all subjects & correlation types\n",
    "node_strengths = {kind: [] for kind in [\"correlation\", \"partial correlation\", \"tangent\"]}\n",
    "\n",
    "for kind in correlation_matrices:\n",
    "    for matrix in correlation_matrices[kind]:\n",
    "        strength = np.sum(np.abs(matrix), axis=1)  # Sum of absolute values per node\n",
    "        node_strengths[kind].append(strength)\n",
    "\n",
    "# Convert to numpy arrays\n",
    "for kind in node_strengths:\n",
    "    node_strengths[kind] = np.array(node_strengths[kind])\n",
    "\n",
    "# Save node strength features\n",
    "node_strength_path = os.path.expanduser(\"~/graph_data/node_strengths.npz\")\n",
    "np.savez(node_strength_path, **node_strengths)\n",
    "\n",
    "print(f\"Node strength features saved in: {node_strength_path}\")\n"
   ]
  },
  {
   "cell_type": "markdown",
   "metadata": {},
   "source": [
    "# 11. Extract Labels from Time Series Files"
   ]
  },
  {
   "cell_type": "code",
   "execution_count": 13,
   "metadata": {},
   "outputs": [
    {
     "name": "stdout",
     "output_type": "stream",
     "text": [
      "Labels saved at: /Users/anushamourshed/time_series_data/subject_labels.npy\n"
     ]
    }
   ],
   "source": [
    "import numpy as np\n",
    "import os\n",
    "\n",
    "time_series_dir = os.path.expanduser(\"~/time_series_data\")\n",
    "subject_labels = []\n",
    "\n",
    "# Extract labels from each subject's saved time-series file\n",
    "for idx in range(155):\n",
    "    file_path = os.path.join(time_series_dir, f\"subject_{idx}.npz\")\n",
    "    \n",
    "    if not os.path.exists(file_path):\n",
    "        print(f\"Warning: {file_path} not found! Skipping.\")\n",
    "        continue\n",
    "    \n",
    "    data = np.load(file_path)\n",
    "    \n",
    "    if \"label\" not in data:\n",
    "        print(f\"Warning: Label missing in {file_path}.\")\n",
    "        continue\n",
    "    \n",
    "    subject_labels.append(data[\"label\"])  # Extract label\n",
    "\n",
    "# Convert list to numpy array and save\n",
    "subject_labels = np.array(subject_labels)\n",
    "label_save_path = os.path.join(time_series_dir, \"subject_labels.npy\")\n",
    "np.save(label_save_path, subject_labels)\n",
    "\n",
    "print(f\"Labels saved at: {label_save_path}\")\n"
   ]
  },
  {
   "cell_type": "code",
   "execution_count": 14,
   "metadata": {},
   "outputs": [
    {
     "name": "stdout",
     "output_type": "stream",
     "text": [
      "Files in time_series_data: ['subject_88.npz', 'subject_63.npz', 'subject_77.npz', 'subject_76.npz', 'subject_62.npz', 'subject_89.npz', 'subject_74.npz', 'subject_60.npz', 'subject_48.npz', 'subject_149.npz', 'subject_148.npz', 'subject_49.npz', 'subject_61.npz', 'subject_75.npz', 'subject_59.npz', 'subject_71.npz', 'subject_65.npz', 'subject_64.npz', 'subject_70.npz', 'subject_58.npz', 'subject_99.npz', 'subject_66.npz', 'subject_72.npz', 'subject_73.npz', 'subject_67.npz', 'subject_98.npz', 'subject_115.npz', 'subject_14.npz', 'subject_101.npz', 'subject_129.npz', 'subject_6.npz', 'subject_28.npz', 'subject_29.npz', 'subject_7.npz', 'subject_128.npz', 'subject_100.npz', 'subject_15.npz', 'subject_114.npz', 'subject_17.npz', 'subject_102.npz', 'subject_116.npz', 'subject_5.npz', 'subject_4.npz', 'subject_117.npz', 'subject_103.npz', 'subject_16.npz', 'subject_0.npz', 'subject_12.npz', 'subject_107.npz', 'subject_113.npz', 'subject_112.npz', 'subject_106.npz', 'subject_13.npz', 'subject_1.npz', 'subject_39.npz', 'subject_138.npz', 'subject_3.npz', 'subject_110.npz', 'subject_11.npz', 'subject_104.npz', 'subject_105.npz', 'subject_10.npz', 'subject_111.npz', 'subject_2.npz', 'subject_139.npz', 'subject_38.npz', 'subject_21.npz', 'subject_134.npz', 'subject_120.npz', 'subject_35.npz', 'subject_108.npz', 'subject_109.npz', 'subject_34.npz', 'subject_121.npz', 'subject_135.npz', 'subject_20.npz', 'subject_123.npz', 'subject_36.npz', 'subject_22.npz', 'subject_137.npz', 'subject_136.npz', 'subject_23.npz', 'subject_37.npz', 'subject_122.npz', 'subject_126.npz', 'subject_33.npz', 'subject_27.npz', 'subject_132.npz', 'subject_9.npz', 'subject_8.npz', 'subject_133.npz', 'subject_26.npz', 'subject_32.npz', 'subject_127.npz', 'subject_18.npz', 'subject_119.npz', 'subject_24.npz', 'subject_131.npz', 'subject_125.npz', 'subject_30.npz', 'subject_31.npz', 'subject_124.npz', 'subject_130.npz', 'subject_25.npz', 'subject_118.npz', 'subject_19.npz', 'subject_81.npz', 'subject_95.npz', 'subject_42.npz', 'subject_56.npz', 'subject_143.npz', 'subject_142.npz', 'subject_57.npz', 'subject_43.npz', 'subject_94.npz', 'subject_80.npz', 'subject_96.npz', 'subject_82.npz', 'subject_55.npz', 'subject_140.npz', 'subject_154.npz', 'subject_41.npz', 'subject_69.npz', 'subject_68.npz', 'subject_40.npz', 'subject_141.npz', 'subject_54.npz', 'subject_83.npz', 'subject_97.npz', 'subject_93.npz', 'subject_87.npz', 'subject_78.npz', 'subject_50.npz', 'subject_145.npz', 'subject_151.npz', 'subject_44.npz', 'subject_45.npz', 'subject_150.npz', 'subject_144.npz', 'subject_51.npz', 'subject_79.npz', 'subject_86.npz', 'subject_92.npz', 'subject_84.npz', 'subject_90.npz', 'subject_152.npz', 'subject_47.npz', 'subject_53.npz', 'subject_146.npz', 'subject_147.npz', 'subject_52.npz', 'subject_46.npz', 'subject_153.npz', 'subject_91.npz', 'subject_85.npz', 'subject_labels.npy']\n"
     ]
    }
   ],
   "source": [
    "import os\n",
    "print(\"Files in time_series_data:\", os.listdir(os.path.expanduser(\"~/time_series_data\")))\n"
   ]
  },
  {
   "cell_type": "code",
   "execution_count": 15,
   "metadata": {},
   "outputs": [
    {
     "name": "stdout",
     "output_type": "stream",
     "text": [
      "Unique labels: ['adult' 'child']\n"
     ]
    }
   ],
   "source": [
    "import numpy as np\n",
    "\n",
    "labels = np.load(os.path.expanduser(\"~/time_series_data/subject_labels.npy\"))\n",
    "print(\"Unique labels:\", np.unique(labels))\n",
    "\n"
   ]
  },
  {
   "cell_type": "markdown",
   "metadata": {},
   "source": [
    "### Convert Labels from string to binary"
   ]
  },
  {
   "cell_type": "code",
   "execution_count": 16,
   "metadata": {},
   "outputs": [
    {
     "name": "stdout",
     "output_type": "stream",
     "text": [
      "Corrected labels saved at: /Users/anushamourshed/time_series_data/subject_labels.npy\n",
      "Unique numeric labels: [0 1]\n"
     ]
    }
   ],
   "source": [
    "import numpy as np\n",
    "import os\n",
    "\n",
    "# Load original string labels\n",
    "label_path = os.path.expanduser(\"~/time_series_data/subject_labels.npy\")\n",
    "labels = np.load(label_path)\n",
    "\n",
    "# Convert string labels to integers\n",
    "label_map = {\"child\": 0, \"adult\": 1}\n",
    "numeric_labels = np.array([label_map[label] for label in labels])\n",
    "\n",
    "# Save corrected labels\n",
    "corrected_label_path = os.path.join(os.path.expanduser(\"~/time_series_data\"), \"subject_labels.npy\")\n",
    "np.save(corrected_label_path, numeric_labels)\n",
    "\n",
    "print(f\"Corrected labels saved at: {corrected_label_path}\")\n",
    "print(\"Unique numeric labels:\", np.unique(numeric_labels))\n"
   ]
  },
  {
   "cell_type": "markdown",
   "metadata": {},
   "source": [
    "# 12. Train Test Split"
   ]
  },
  {
   "cell_type": "code",
   "execution_count": 49,
   "metadata": {},
   "outputs": [
    {
     "name": "stdout",
     "output_type": "stream",
     "text": [
      "✅ Train size: 124, Test size: 31\n"
     ]
    }
   ],
   "source": [
    "from sklearn.model_selection import train_test_split\n",
    "\n",
    "# Load PCA features\n",
    "pca_features = np.load(os.path.expanduser(\"~/graph_data/pca_features.npz\"))[\"features\"]\n",
    "\n",
    "# Load numeric labels\n",
    "numeric_labels = np.load(os.path.expanduser(\"~/time_series_data/subject_labels.npy\"))\n",
    "\n",
    "# Split dataset (80% train, 20% test)\n",
    "train_pca, test_pca, train_labels, test_labels = train_test_split(\n",
    "    pca_features, numeric_labels, test_size=0.2, stratify=numeric_labels, random_state=42\n",
    ")\n",
    "\n",
    "print(f\"✅ Train size: {len(train_labels)}, Test size: {len(test_labels)}\")\n"
   ]
  },
  {
   "cell_type": "markdown",
   "metadata": {},
   "source": [
    "# 13. Load and Split Adjacency Matrices"
   ]
  },
  {
   "cell_type": "code",
   "execution_count": 52,
   "metadata": {},
   "outputs": [
    {
     "name": "stdout",
     "output_type": "stream",
     "text": [
      "✅ Loaded Adjacency Matrices for corr_correlation_thresh_0.1 - Train: (124, 39, 39), Test: (31, 39, 39)\n",
      "✅ Loaded Adjacency Matrices for corr_correlation_thresh_0.2 - Train: (124, 39, 39), Test: (31, 39, 39)\n",
      "✅ Loaded Adjacency Matrices for corr_correlation_thresh_0.3 - Train: (124, 39, 39), Test: (31, 39, 39)\n",
      "✅ Loaded Adjacency Matrices for corr_correlation_thresh_0.4 - Train: (124, 39, 39), Test: (31, 39, 39)\n",
      "✅ Loaded Adjacency Matrices for corr_correlation_thresh_0.5 - Train: (124, 39, 39), Test: (31, 39, 39)\n",
      "✅ Loaded Adjacency Matrices for corr_correlation_thresh_0.6 - Train: (124, 39, 39), Test: (31, 39, 39)\n",
      "✅ Loaded Adjacency Matrices for corr_correlation_thresh_0.7 - Train: (124, 39, 39), Test: (31, 39, 39)\n",
      "✅ Loaded Adjacency Matrices for corr_correlation_thresh_0.8 - Train: (124, 39, 39), Test: (31, 39, 39)\n",
      "✅ Loaded Adjacency Matrices for corr_correlation_thresh_0.9 - Train: (124, 39, 39), Test: (31, 39, 39)\n",
      "✅ Loaded Adjacency Matrices for corr_tangent_thresh_0.1 - Train: (124, 39, 39), Test: (31, 39, 39)\n",
      "✅ Loaded Adjacency Matrices for corr_tangent_thresh_0.2 - Train: (124, 39, 39), Test: (31, 39, 39)\n",
      "✅ Loaded Adjacency Matrices for corr_tangent_thresh_0.3 - Train: (124, 39, 39), Test: (31, 39, 39)\n",
      "✅ Loaded Adjacency Matrices for corr_tangent_thresh_0.4 - Train: (124, 39, 39), Test: (31, 39, 39)\n",
      "✅ Loaded Adjacency Matrices for corr_tangent_thresh_0.5 - Train: (124, 39, 39), Test: (31, 39, 39)\n",
      "✅ Loaded Adjacency Matrices for corr_tangent_thresh_0.6 - Train: (124, 39, 39), Test: (31, 39, 39)\n",
      "✅ Loaded Adjacency Matrices for corr_tangent_thresh_0.7 - Train: (124, 39, 39), Test: (31, 39, 39)\n",
      "✅ Loaded Adjacency Matrices for corr_tangent_thresh_0.8 - Train: (124, 39, 39), Test: (31, 39, 39)\n",
      "✅ Loaded Adjacency Matrices for corr_tangent_thresh_0.9 - Train: (124, 39, 39), Test: (31, 39, 39)\n",
      "✅ Loaded Adjacency Matrices for corr_partial correlation_thresh_0.1 - Train: (124, 39, 39), Test: (31, 39, 39)\n",
      "✅ Loaded Adjacency Matrices for corr_partial correlation_thresh_0.2 - Train: (124, 39, 39), Test: (31, 39, 39)\n",
      "✅ Loaded Adjacency Matrices for corr_partial correlation_thresh_0.3 - Train: (124, 39, 39), Test: (31, 39, 39)\n",
      "✅ Loaded Adjacency Matrices for corr_partial correlation_thresh_0.4 - Train: (124, 39, 39), Test: (31, 39, 39)\n",
      "✅ Loaded Adjacency Matrices for corr_partial correlation_thresh_0.5 - Train: (124, 39, 39), Test: (31, 39, 39)\n",
      "✅ Loaded Adjacency Matrices for corr_partial correlation_thresh_0.6 - Train: (124, 39, 39), Test: (31, 39, 39)\n",
      "✅ Loaded Adjacency Matrices for corr_partial correlation_thresh_0.7 - Train: (124, 39, 39), Test: (31, 39, 39)\n",
      "✅ Loaded Adjacency Matrices for corr_partial correlation_thresh_0.8 - Train: (124, 39, 39), Test: (31, 39, 39)\n",
      "✅ Loaded Adjacency Matrices for corr_partial correlation_thresh_0.9 - Train: (124, 39, 39), Test: (31, 39, 39)\n"
     ]
    }
   ],
   "source": [
    "from itertools import product\n",
    "\n",
    "# Define available thresholds\n",
    "thresholds = np.arange(0.1, 1.0, 0.1)  # [0.1, 0.2, ..., 0.9]\n",
    "correlation_matrices = [\"correlation\", \"tangent\", \"partial correlation\"]\n",
    "\n",
    "\n",
    "# Dictionary to store adjacency matrices for each (correlation matrix, threshold) pair\n",
    "train_adj_comb_dict = {}\n",
    "test_adj_comb_dict = {}\n",
    "\n",
    "# Iterate over all possible (correlation matrix, threshold) combinations\n",
    "for corr_matrix, threshold in product(correlation_matrices, thresholds):\n",
    "    key = f\"corr_{corr_matrix}_thresh_{threshold:.1f}\"  # Unique key for each combination\n",
    "\n",
    "    # Check if adjacency matrix exists for this combination\n",
    "    threshold_file = os.path.join(graph_save_dir, f\"{corr_matrix}_thresh_{threshold:.1f}.npz\")\n",
    "\n",
    "    if not os.path.exists(threshold_file):\n",
    "        print(f\"⚠ Skipping {key} (file not found).\")\n",
    "        continue\n",
    "\n",
    "    # Load adjacency matrices\n",
    "    adjacency_matrices = np.load(threshold_file)[\"matrices\"]\n",
    "\n",
    "    # Perform train-test split\n",
    "    train_adj, test_adj = train_test_split(\n",
    "        adjacency_matrices, test_size=0.2, stratify=numeric_labels, random_state=42\n",
    "    )\n",
    "\n",
    "    # Store in dictionaries\n",
    "    train_adj_comb_dict[key] = train_adj\n",
    "    test_adj_comb_dict[key] = test_adj\n",
    "\n",
    "    print(f\"✅ Loaded Adjacency Matrices for {key} - Train: {train_adj.shape}, Test: {test_adj.shape}\")\n"
   ]
  },
  {
   "cell_type": "markdown",
   "metadata": {},
   "source": [
    "# 14. Convert Adjacency Matrices to Graph Data"
   ]
  },
  {
   "cell_type": "code",
   "execution_count": 53,
   "metadata": {},
   "outputs": [
    {
     "name": "stdout",
     "output_type": "stream",
     "text": [
      "✅ Created Graph Data for corr_correlation_thresh_0.1 - Train: 124, Test: 31\n",
      "✅ Created Graph Data for corr_correlation_thresh_0.2 - Train: 124, Test: 31\n",
      "✅ Created Graph Data for corr_correlation_thresh_0.3 - Train: 124, Test: 31\n",
      "✅ Created Graph Data for corr_correlation_thresh_0.4 - Train: 124, Test: 31\n",
      "✅ Created Graph Data for corr_correlation_thresh_0.5 - Train: 124, Test: 31\n",
      "✅ Created Graph Data for corr_correlation_thresh_0.6 - Train: 124, Test: 31\n",
      "✅ Created Graph Data for corr_correlation_thresh_0.7 - Train: 124, Test: 31\n",
      "✅ Created Graph Data for corr_correlation_thresh_0.8 - Train: 124, Test: 31\n",
      "✅ Created Graph Data for corr_correlation_thresh_0.9 - Train: 124, Test: 31\n",
      "✅ Created Graph Data for corr_tangent_thresh_0.1 - Train: 124, Test: 31\n",
      "✅ Created Graph Data for corr_tangent_thresh_0.2 - Train: 124, Test: 31\n",
      "✅ Created Graph Data for corr_tangent_thresh_0.3 - Train: 124, Test: 31\n",
      "✅ Created Graph Data for corr_tangent_thresh_0.4 - Train: 124, Test: 31\n",
      "✅ Created Graph Data for corr_tangent_thresh_0.5 - Train: 124, Test: 31\n",
      "✅ Created Graph Data for corr_tangent_thresh_0.6 - Train: 124, Test: 31\n",
      "✅ Created Graph Data for corr_tangent_thresh_0.7 - Train: 124, Test: 31\n",
      "✅ Created Graph Data for corr_tangent_thresh_0.8 - Train: 124, Test: 31\n",
      "✅ Created Graph Data for corr_tangent_thresh_0.9 - Train: 124, Test: 31\n",
      "✅ Created Graph Data for corr_partial correlation_thresh_0.1 - Train: 124, Test: 31\n",
      "✅ Created Graph Data for corr_partial correlation_thresh_0.2 - Train: 124, Test: 31\n",
      "✅ Created Graph Data for corr_partial correlation_thresh_0.3 - Train: 124, Test: 31\n",
      "✅ Created Graph Data for corr_partial correlation_thresh_0.4 - Train: 124, Test: 31\n",
      "✅ Created Graph Data for corr_partial correlation_thresh_0.5 - Train: 124, Test: 31\n",
      "✅ Created Graph Data for corr_partial correlation_thresh_0.6 - Train: 124, Test: 31\n",
      "✅ Created Graph Data for corr_partial correlation_thresh_0.7 - Train: 124, Test: 31\n",
      "✅ Created Graph Data for corr_partial correlation_thresh_0.8 - Train: 124, Test: 31\n",
      "✅ Created Graph Data for corr_partial correlation_thresh_0.9 - Train: 124, Test: 31\n"
     ]
    }
   ],
   "source": [
    "import torch\n",
    "from torch_geometric.data import Data, DataLoader\n",
    "\n",
    "def create_graph_data(adjacency_matrices, node_features, labels):\n",
    "    graph_data = []\n",
    "    for i in range(len(labels)):\n",
    "        edge_index = torch.tensor(np.array(np.nonzero(adjacency_matrices[i])), dtype=torch.long)\n",
    "        x = torch.tensor(node_features[i], dtype=torch.float)  # PCA features as node embeddings\n",
    "        y = torch.tensor([labels[i]], dtype=torch.long)  # 🔥 Wrap label in a list for correct shape\n",
    "\n",
    "        graph_data.append(Data(x=x, edge_index=edge_index, y=y))  # ✅ Graph-level labels\n",
    "\n",
    "    return graph_data\n",
    "\n",
    "# Store train/test graph datasets for all (correlation matrix, threshold) combinations\n",
    "train_graph_comb_dict = {}\n",
    "test_graph_comb_dict = {}\n",
    "\n",
    "for key in train_adj_comb_dict:\n",
    "    train_graph_comb_dict[key] = create_graph_data(train_adj_comb_dict[key], train_pca, train_labels)\n",
    "    test_graph_comb_dict[key] = create_graph_data(test_adj_comb_dict[key], test_pca, test_labels)\n",
    "\n",
    "    print(f\"✅ Created Graph Data for {key} - Train: {len(train_graph_comb_dict[key])}, Test: {len(test_graph_comb_dict[key])}\")\n"
   ]
  },
  {
   "cell_type": "markdown",
   "metadata": {},
   "source": [
    "# 15. Create DataLoaders for Each Combination"
   ]
  },
  {
   "cell_type": "code",
   "execution_count": 54,
   "metadata": {},
   "outputs": [
    {
     "name": "stdout",
     "output_type": "stream",
     "text": [
      "✅ DataLoaders Created for All Combinations!\n"
     ]
    }
   ],
   "source": [
    "from torch_geometric.loader import DataLoader\n",
    "\n",
    "# Store DataLoaders for each combination\n",
    "train_loader_comb_dict = {}\n",
    "test_loader_comb_dict = {}\n",
    "\n",
    "for key in train_graph_comb_dict:\n",
    "    train_loader_comb_dict[key] = DataLoader(train_graph_comb_dict[key], batch_size=32, shuffle=True)\n",
    "    test_loader_comb_dict[key] = DataLoader(test_graph_comb_dict[key], batch_size=32, shuffle=False)\n",
    "\n",
    "print(\"✅ DataLoaders Created for All Combinations!\")\n"
   ]
  },
  {
   "cell_type": "markdown",
   "metadata": {},
   "source": [
    "# 16. Define the GCN Model"
   ]
  },
  {
   "cell_type": "code",
   "execution_count": 55,
   "metadata": {},
   "outputs": [
    {
     "name": "stdout",
     "output_type": "stream",
     "text": [
      "✅ GCN Model Defined!\n"
     ]
    }
   ],
   "source": [
    "import torch\n",
    "import torch.nn.functional as F\n",
    "from torch_geometric.nn import GCNConv, global_mean_pool\n",
    "\n",
    "class GCN(torch.nn.Module):\n",
    "    def __init__(self, input_dim, hidden_dim, output_dim):\n",
    "        super(GCN, self).__init__()\n",
    "        self.conv1 = GCNConv(input_dim, hidden_dim)\n",
    "        self.conv2 = GCNConv(hidden_dim, hidden_dim)\n",
    "        self.fc = torch.nn.Linear(hidden_dim, output_dim)  # 🔥 Fully connected layer for graph classification\n",
    "\n",
    "    def forward(self, data):\n",
    "        x, edge_index, batch = data.x, data.edge_index, data.batch\n",
    "        x = self.conv1(x, edge_index)\n",
    "        x = F.relu(x)\n",
    "        x = self.conv2(x, edge_index)\n",
    "        x = global_mean_pool(x, batch)  # 🔥 Aggregates node embeddings into a single graph representation\n",
    "        return self.fc(x)  # ✅ Outputs one prediction per graph\n",
    "\n",
    "print(\"✅ GCN Model Defined!\")\n"
   ]
  },
  {
   "cell_type": "markdown",
   "metadata": {},
   "source": [
    "# 17. Train GCN for Each Combination"
   ]
  },
  {
   "cell_type": "code",
   "execution_count": 57,
   "metadata": {},
   "outputs": [
    {
     "name": "stdout",
     "output_type": "stream",
     "text": [
      "\n",
      "🚀 Training GCN for corr_correlation_thresh_0.1...\n",
      "Epoch 10/50 - Loss: 0.5170\n",
      "Epoch 20/50 - Loss: 0.5129\n",
      "Epoch 30/50 - Loss: 0.4900\n",
      "Epoch 40/50 - Loss: 0.4032\n",
      "Epoch 50/50 - Loss: 0.3515\n",
      "✅ Training Completed for corr_correlation_thresh_0.1!\n",
      "\n",
      "🚀 Training GCN for corr_correlation_thresh_0.2...\n",
      "Epoch 10/50 - Loss: 0.5162\n",
      "Epoch 20/50 - Loss: 0.5136\n",
      "Epoch 30/50 - Loss: 0.5040\n",
      "Epoch 40/50 - Loss: 0.4852\n",
      "Epoch 50/50 - Loss: 0.4415\n",
      "✅ Training Completed for corr_correlation_thresh_0.2!\n",
      "\n",
      "🚀 Training GCN for corr_correlation_thresh_0.3...\n",
      "Epoch 10/50 - Loss: 0.5115\n",
      "Epoch 20/50 - Loss: 0.5097\n",
      "Epoch 30/50 - Loss: 0.5018\n",
      "Epoch 40/50 - Loss: 0.4653\n",
      "Epoch 50/50 - Loss: 0.3842\n",
      "✅ Training Completed for corr_correlation_thresh_0.3!\n",
      "\n",
      "🚀 Training GCN for corr_correlation_thresh_0.4...\n",
      "Epoch 10/50 - Loss: 0.5162\n",
      "Epoch 20/50 - Loss: 0.5156\n",
      "Epoch 30/50 - Loss: 0.5023\n",
      "Epoch 40/50 - Loss: 0.4585\n",
      "Epoch 50/50 - Loss: 0.3931\n",
      "✅ Training Completed for corr_correlation_thresh_0.4!\n",
      "\n",
      "🚀 Training GCN for corr_correlation_thresh_0.5...\n",
      "Epoch 10/50 - Loss: 0.5142\n",
      "Epoch 20/50 - Loss: 0.5061\n",
      "Epoch 30/50 - Loss: 0.4618\n",
      "Epoch 40/50 - Loss: 0.3904\n",
      "Epoch 50/50 - Loss: 0.3109\n",
      "✅ Training Completed for corr_correlation_thresh_0.5!\n",
      "\n",
      "🚀 Training GCN for corr_correlation_thresh_0.6...\n",
      "Epoch 10/50 - Loss: 0.5123\n",
      "Epoch 20/50 - Loss: 0.5128\n",
      "Epoch 30/50 - Loss: 0.5033\n",
      "Epoch 40/50 - Loss: 0.4964\n",
      "Epoch 50/50 - Loss: 0.4589\n",
      "✅ Training Completed for corr_correlation_thresh_0.6!\n",
      "\n",
      "🚀 Training GCN for corr_correlation_thresh_0.7...\n",
      "Epoch 10/50 - Loss: 0.5119\n",
      "Epoch 20/50 - Loss: 0.5050\n",
      "Epoch 30/50 - Loss: 0.4994\n",
      "Epoch 40/50 - Loss: 0.4720\n",
      "Epoch 50/50 - Loss: 0.5202\n",
      "✅ Training Completed for corr_correlation_thresh_0.7!\n",
      "\n",
      "🚀 Training GCN for corr_correlation_thresh_0.8...\n",
      "Epoch 10/50 - Loss: 0.5200\n",
      "Epoch 20/50 - Loss: 0.5150\n",
      "Epoch 30/50 - Loss: 0.5021\n",
      "Epoch 40/50 - Loss: 0.4779\n",
      "Epoch 50/50 - Loss: 0.4649\n",
      "✅ Training Completed for corr_correlation_thresh_0.8!\n",
      "\n",
      "🚀 Training GCN for corr_correlation_thresh_0.9...\n",
      "Epoch 10/50 - Loss: 0.5114\n",
      "Epoch 20/50 - Loss: 0.5133\n",
      "Epoch 30/50 - Loss: 0.5098\n",
      "Epoch 40/50 - Loss: 0.5011\n",
      "Epoch 50/50 - Loss: 0.4928\n",
      "✅ Training Completed for corr_correlation_thresh_0.9!\n",
      "\n",
      "🚀 Training GCN for corr_tangent_thresh_0.1...\n",
      "Epoch 10/50 - Loss: 0.5099\n",
      "Epoch 20/50 - Loss: 0.5090\n",
      "Epoch 30/50 - Loss: 0.4975\n",
      "Epoch 40/50 - Loss: 0.4832\n",
      "Epoch 50/50 - Loss: 0.4247\n",
      "✅ Training Completed for corr_tangent_thresh_0.1!\n",
      "\n",
      "🚀 Training GCN for corr_tangent_thresh_0.2...\n",
      "Epoch 10/50 - Loss: 0.5159\n",
      "Epoch 20/50 - Loss: 0.5031\n",
      "Epoch 30/50 - Loss: 0.4837\n",
      "Epoch 40/50 - Loss: 0.4625\n",
      "Epoch 50/50 - Loss: 0.3724\n",
      "✅ Training Completed for corr_tangent_thresh_0.2!\n",
      "\n",
      "🚀 Training GCN for corr_tangent_thresh_0.3...\n",
      "Epoch 10/50 - Loss: 0.5215\n",
      "Epoch 20/50 - Loss: 0.5108\n",
      "Epoch 30/50 - Loss: 0.5046\n",
      "Epoch 40/50 - Loss: 0.4822\n",
      "Epoch 50/50 - Loss: 0.4616\n",
      "✅ Training Completed for corr_tangent_thresh_0.3!\n",
      "\n",
      "🚀 Training GCN for corr_tangent_thresh_0.4...\n",
      "Epoch 10/50 - Loss: 0.5222\n",
      "Epoch 20/50 - Loss: 0.5102\n",
      "Epoch 30/50 - Loss: 0.4883\n",
      "Epoch 40/50 - Loss: 0.4718\n",
      "Epoch 50/50 - Loss: 0.4167\n",
      "✅ Training Completed for corr_tangent_thresh_0.4!\n",
      "\n",
      "🚀 Training GCN for corr_tangent_thresh_0.5...\n",
      "Epoch 10/50 - Loss: 0.5099\n",
      "Epoch 20/50 - Loss: 0.5105\n",
      "Epoch 30/50 - Loss: 0.5114\n",
      "Epoch 40/50 - Loss: 0.4898\n",
      "Epoch 50/50 - Loss: 0.4377\n",
      "✅ Training Completed for corr_tangent_thresh_0.5!\n",
      "\n",
      "🚀 Training GCN for corr_tangent_thresh_0.6...\n",
      "Epoch 10/50 - Loss: 0.5177\n",
      "Epoch 20/50 - Loss: 0.5088\n",
      "Epoch 30/50 - Loss: 0.5021\n",
      "Epoch 40/50 - Loss: 0.4874\n",
      "Epoch 50/50 - Loss: 0.4787\n",
      "✅ Training Completed for corr_tangent_thresh_0.6!\n",
      "\n",
      "🚀 Training GCN for corr_tangent_thresh_0.7...\n",
      "Epoch 10/50 - Loss: 0.5202\n",
      "Epoch 20/50 - Loss: 0.5095\n",
      "Epoch 30/50 - Loss: 0.5234\n",
      "Epoch 40/50 - Loss: 0.5046\n",
      "Epoch 50/50 - Loss: 0.4974\n",
      "✅ Training Completed for corr_tangent_thresh_0.7!\n",
      "\n",
      "🚀 Training GCN for corr_tangent_thresh_0.8...\n",
      "Epoch 10/50 - Loss: 0.5111\n",
      "Epoch 20/50 - Loss: 0.5036\n",
      "Epoch 30/50 - Loss: 0.4971\n",
      "Epoch 40/50 - Loss: 0.4843\n",
      "Epoch 50/50 - Loss: 0.5025\n",
      "✅ Training Completed for corr_tangent_thresh_0.8!\n",
      "\n",
      "🚀 Training GCN for corr_tangent_thresh_0.9...\n",
      "Epoch 10/50 - Loss: 0.5140\n",
      "Epoch 20/50 - Loss: 0.5059\n",
      "Epoch 30/50 - Loss: 0.4984\n",
      "Epoch 40/50 - Loss: 0.4835\n",
      "Epoch 50/50 - Loss: 0.4352\n",
      "✅ Training Completed for corr_tangent_thresh_0.9!\n",
      "\n",
      "🚀 Training GCN for corr_partial correlation_thresh_0.1...\n",
      "Epoch 10/50 - Loss: 0.5186\n",
      "Epoch 20/50 - Loss: 0.5104\n",
      "Epoch 30/50 - Loss: 0.5014\n",
      "Epoch 40/50 - Loss: 0.4973\n",
      "Epoch 50/50 - Loss: 0.4615\n",
      "✅ Training Completed for corr_partial correlation_thresh_0.1!\n",
      "\n",
      "🚀 Training GCN for corr_partial correlation_thresh_0.2...\n",
      "Epoch 10/50 - Loss: 0.5161\n",
      "Epoch 20/50 - Loss: 0.5128\n",
      "Epoch 30/50 - Loss: 0.5051\n",
      "Epoch 40/50 - Loss: 0.5282\n",
      "Epoch 50/50 - Loss: 0.4431\n",
      "✅ Training Completed for corr_partial correlation_thresh_0.2!\n",
      "\n",
      "🚀 Training GCN for corr_partial correlation_thresh_0.3...\n",
      "Epoch 10/50 - Loss: 0.5204\n",
      "Epoch 20/50 - Loss: 0.5084\n",
      "Epoch 30/50 - Loss: 0.5075\n",
      "Epoch 40/50 - Loss: 0.4987\n",
      "Epoch 50/50 - Loss: 0.4700\n",
      "✅ Training Completed for corr_partial correlation_thresh_0.3!\n",
      "\n",
      "🚀 Training GCN for corr_partial correlation_thresh_0.4...\n",
      "Epoch 10/50 - Loss: 0.5225\n",
      "Epoch 20/50 - Loss: 0.5098\n",
      "Epoch 30/50 - Loss: 0.5078\n",
      "Epoch 40/50 - Loss: 0.4777\n",
      "Epoch 50/50 - Loss: 0.4936\n",
      "✅ Training Completed for corr_partial correlation_thresh_0.4!\n",
      "\n",
      "🚀 Training GCN for corr_partial correlation_thresh_0.5...\n",
      "Epoch 10/50 - Loss: 0.5203\n",
      "Epoch 20/50 - Loss: 0.5106\n",
      "Epoch 30/50 - Loss: 0.4961\n",
      "Epoch 40/50 - Loss: 0.5464\n",
      "Epoch 50/50 - Loss: 0.5025\n",
      "✅ Training Completed for corr_partial correlation_thresh_0.5!\n",
      "\n",
      "🚀 Training GCN for corr_partial correlation_thresh_0.6...\n",
      "Epoch 10/50 - Loss: 0.5178\n",
      "Epoch 20/50 - Loss: 0.5121\n",
      "Epoch 30/50 - Loss: 0.5133\n",
      "Epoch 40/50 - Loss: 0.4986\n",
      "Epoch 50/50 - Loss: 0.4775\n",
      "✅ Training Completed for corr_partial correlation_thresh_0.6!\n",
      "\n",
      "🚀 Training GCN for corr_partial correlation_thresh_0.7...\n",
      "Epoch 10/50 - Loss: 0.5171\n",
      "Epoch 20/50 - Loss: 0.5100\n",
      "Epoch 30/50 - Loss: 0.5057\n",
      "Epoch 40/50 - Loss: 0.5163\n",
      "Epoch 50/50 - Loss: 0.4712\n",
      "✅ Training Completed for corr_partial correlation_thresh_0.7!\n",
      "\n",
      "🚀 Training GCN for corr_partial correlation_thresh_0.8...\n",
      "Epoch 10/50 - Loss: 0.5095\n",
      "Epoch 20/50 - Loss: 0.5114\n",
      "Epoch 30/50 - Loss: 0.5020\n",
      "Epoch 40/50 - Loss: 0.4756\n",
      "Epoch 50/50 - Loss: 0.4159\n",
      "✅ Training Completed for corr_partial correlation_thresh_0.8!\n",
      "\n",
      "🚀 Training GCN for corr_partial correlation_thresh_0.9...\n",
      "Epoch 10/50 - Loss: 0.5104\n",
      "Epoch 20/50 - Loss: 0.5245\n",
      "Epoch 30/50 - Loss: 0.5069\n",
      "Epoch 40/50 - Loss: 0.4756\n",
      "Epoch 50/50 - Loss: 0.4448\n",
      "✅ Training Completed for corr_partial correlation_thresh_0.9!\n"
     ]
    }
   ],
   "source": [
    "import torch.optim as optim\n",
    "\n",
    "# Store trained models\n",
    "trained_models_comb = {}\n",
    "\n",
    "# Define the training function\n",
    "def train_model(train_loader, model, optimizer, criterion, epochs=50):\n",
    "    model.train()\n",
    "    for epoch in range(epochs):\n",
    "        total_loss = 0\n",
    "        for data in train_loader:\n",
    "            optimizer.zero_grad()\n",
    "            out = model(data)\n",
    "            loss = criterion(out, data.y)\n",
    "            loss.backward()\n",
    "            optimizer.step()\n",
    "            total_loss += loss.item()\n",
    "        \n",
    "        if (epoch+1) % 10 == 0:\n",
    "            print(f\"Epoch {epoch+1}/{epochs} - Loss: {total_loss/len(train_loader):.4f}\")\n",
    "\n",
    "    return model\n",
    "\n",
    "# Train GCN for each (correlation matrix, threshold) combination\n",
    "for key in train_loader_comb_dict:\n",
    "    print(f\"\\n🚀 Training GCN for {key}...\")\n",
    "\n",
    "    # Initialize model\n",
    "    input_dim = train_loader_comb_dict[key].dataset[0].x.shape[1]  # PCA feature size\n",
    "    hidden_dim = 32\n",
    "    output_dim = 2  # Binary classification (Child vs. Adult)\n",
    "\n",
    "    model = GCN(input_dim, hidden_dim, output_dim)\n",
    "    optimizer = optim.Adam(model.parameters(), lr=0.01, weight_decay=5e-4)\n",
    "    criterion = torch.nn.CrossEntropyLoss()\n",
    "\n",
    "    # Train the model\n",
    "    trained_model = train_model(train_loader_comb_dict[key], model, optimizer, criterion, epochs=50)\n",
    "\n",
    "    # Store trained model\n",
    "    trained_models_comb[key] = trained_model\n",
    "\n",
    "    print(f\"✅ Training Completed for {key}!\")\n"
   ]
  },
  {
   "cell_type": "markdown",
   "metadata": {},
   "source": [
    "# 18. Evaluate All Models"
   ]
  },
  {
   "cell_type": "code",
   "execution_count": 58,
   "metadata": {},
   "outputs": [
    {
     "name": "stdout",
     "output_type": "stream",
     "text": [
      "\n",
      "🧪 Evaluating Model for corr_correlation_thresh_0.1...\n",
      "✅ Accuracy for corr_correlation_thresh_0.1: 0.7419\n",
      "\n",
      "🧪 Evaluating Model for corr_correlation_thresh_0.2...\n",
      "✅ Accuracy for corr_correlation_thresh_0.2: 0.7742\n",
      "\n",
      "🧪 Evaluating Model for corr_correlation_thresh_0.3...\n",
      "✅ Accuracy for corr_correlation_thresh_0.3: 0.7742\n",
      "\n",
      "🧪 Evaluating Model for corr_correlation_thresh_0.4...\n",
      "✅ Accuracy for corr_correlation_thresh_0.4: 0.7742\n",
      "\n",
      "🧪 Evaluating Model for corr_correlation_thresh_0.5...\n",
      "✅ Accuracy for corr_correlation_thresh_0.5: 0.6774\n",
      "\n",
      "🧪 Evaluating Model for corr_correlation_thresh_0.6...\n",
      "✅ Accuracy for corr_correlation_thresh_0.6: 0.7742\n",
      "\n",
      "🧪 Evaluating Model for corr_correlation_thresh_0.7...\n",
      "✅ Accuracy for corr_correlation_thresh_0.7: 0.7742\n",
      "\n",
      "🧪 Evaluating Model for corr_correlation_thresh_0.8...\n",
      "✅ Accuracy for corr_correlation_thresh_0.8: 0.7742\n",
      "\n",
      "🧪 Evaluating Model for corr_correlation_thresh_0.9...\n",
      "✅ Accuracy for corr_correlation_thresh_0.9: 0.7742\n",
      "\n",
      "🧪 Evaluating Model for corr_tangent_thresh_0.1...\n",
      "✅ Accuracy for corr_tangent_thresh_0.1: 0.7742\n",
      "\n",
      "🧪 Evaluating Model for corr_tangent_thresh_0.2...\n",
      "✅ Accuracy for corr_tangent_thresh_0.2: 0.7742\n",
      "\n",
      "🧪 Evaluating Model for corr_tangent_thresh_0.3...\n",
      "✅ Accuracy for corr_tangent_thresh_0.3: 0.6774\n",
      "\n",
      "🧪 Evaluating Model for corr_tangent_thresh_0.4...\n",
      "✅ Accuracy for corr_tangent_thresh_0.4: 0.7742\n",
      "\n",
      "🧪 Evaluating Model for corr_tangent_thresh_0.5...\n",
      "✅ Accuracy for corr_tangent_thresh_0.5: 0.7742\n",
      "\n",
      "🧪 Evaluating Model for corr_tangent_thresh_0.6...\n",
      "✅ Accuracy for corr_tangent_thresh_0.6: 0.7742\n",
      "\n",
      "🧪 Evaluating Model for corr_tangent_thresh_0.7...\n",
      "✅ Accuracy for corr_tangent_thresh_0.7: 0.7742\n",
      "\n",
      "🧪 Evaluating Model for corr_tangent_thresh_0.8...\n",
      "✅ Accuracy for corr_tangent_thresh_0.8: 0.7742\n",
      "\n",
      "🧪 Evaluating Model for corr_tangent_thresh_0.9...\n",
      "✅ Accuracy for corr_tangent_thresh_0.9: 0.7742\n",
      "\n",
      "🧪 Evaluating Model for corr_partial correlation_thresh_0.1...\n",
      "✅ Accuracy for corr_partial correlation_thresh_0.1: 0.7742\n",
      "\n",
      "🧪 Evaluating Model for corr_partial correlation_thresh_0.2...\n",
      "✅ Accuracy for corr_partial correlation_thresh_0.2: 0.7742\n",
      "\n",
      "🧪 Evaluating Model for corr_partial correlation_thresh_0.3...\n",
      "✅ Accuracy for corr_partial correlation_thresh_0.3: 0.7742\n",
      "\n",
      "🧪 Evaluating Model for corr_partial correlation_thresh_0.4...\n",
      "✅ Accuracy for corr_partial correlation_thresh_0.4: 0.7742\n",
      "\n",
      "🧪 Evaluating Model for corr_partial correlation_thresh_0.5...\n",
      "✅ Accuracy for corr_partial correlation_thresh_0.5: 0.7742\n",
      "\n",
      "🧪 Evaluating Model for corr_partial correlation_thresh_0.6...\n",
      "✅ Accuracy for corr_partial correlation_thresh_0.6: 0.7742\n",
      "\n",
      "🧪 Evaluating Model for corr_partial correlation_thresh_0.7...\n",
      "✅ Accuracy for corr_partial correlation_thresh_0.7: 0.7742\n",
      "\n",
      "🧪 Evaluating Model for corr_partial correlation_thresh_0.8...\n",
      "✅ Accuracy for corr_partial correlation_thresh_0.8: 0.7742\n",
      "\n",
      "🧪 Evaluating Model for corr_partial correlation_thresh_0.9...\n",
      "✅ Accuracy for corr_partial correlation_thresh_0.9: 0.7742\n"
     ]
    }
   ],
   "source": [
    "def evaluate_model(test_loader, model):\n",
    "    model.eval()\n",
    "    correct = 0\n",
    "    total = 0\n",
    "    with torch.no_grad():\n",
    "        for data in test_loader:\n",
    "            out = model(data)\n",
    "            pred = out.argmax(dim=1)  # Get predicted class (0 or 1)\n",
    "            correct += (pred == data.y).sum().item()\n",
    "            total += data.y.size(0)\n",
    "\n",
    "    accuracy = correct / total\n",
    "    return accuracy\n",
    "\n",
    "# Store accuracy for each combination\n",
    "accuracy_comb_dict = {}\n",
    "\n",
    "for key in test_loader_comb_dict:\n",
    "    print(f\"\\n🧪 Evaluating Model for {key}...\")\n",
    "\n",
    "    accuracy = evaluate_model(test_loader_comb_dict[key], trained_models_comb[key])\n",
    "    accuracy_comb_dict[key] = accuracy\n",
    "\n",
    "    print(f\"✅ Accuracy for {key}: {accuracy:.4f}\")\n"
   ]
  },
  {
   "cell_type": "markdown",
   "metadata": {},
   "source": [
    "# 19. Visualize Accuracy Results"
   ]
  },
  {
   "cell_type": "code",
   "execution_count": 59,
   "metadata": {},
   "outputs": [
    {
     "data": {
      "image/png": "[encoded data removed]",
      "text/plain": [
       "<Figure size 1400x600 with 1 Axes>"
      ]
     },
     "metadata": {},
     "output_type": "display_data"
    }
   ],
   "source": [
    "import matplotlib.pyplot as plt\n",
    "\n",
    "# Sort keys for better visualization\n",
    "sorted_keys = sorted(accuracy_comb_dict.keys())\n",
    "\n",
    "# Extract values for plotting\n",
    "accuracies = [accuracy_comb_dict[key] for key in sorted_keys]\n",
    "\n",
    "# Plot accuracy results\n",
    "plt.figure(figsize=(14, 6))\n",
    "plt.bar(sorted_keys, accuracies, color='royalblue')\n",
    "plt.xticks(rotation=90, fontsize=10)\n",
    "plt.ylabel(\"Accuracy\")\n",
    "plt.xlabel(\"Correlation Matrix & Threshold\")\n",
    "plt.title(\"GCN Classification Accuracy for Different Correlation Matrices & Thresholds\")\n",
    "plt.ylim(0, 1)\n",
    "plt.grid(axis=\"y\", linestyle=\"--\", alpha=0.7)\n",
    "plt.show()\n"
   ]
  }
 ],
 "metadata": {
  "kernelspec": {
   "display_name": "Python 3.11.9 ('capstone')",
   "language": "python",
   "name": "python3"
  },
  "language_info": {
   "codemirror_mode": {
    "name": "ipython",
    "version": 3
   },
   "file_extension": ".py",
   "mimetype": "text/x-python",
   "name": "python",
   "nbconvert_exporter": "python",
   "pygments_lexer": "ipython3",
   "version": "3.11.9"
  },
  "orig_nbformat": 4,
  "vscode": {
   "interpreter": {
    "hash": "61c12dabc53b3c38026121b5b57a874e2c527979eaaf65ce1b82c6f270ed05c3"
   }
  }
 },
 "nbformat": 4,
 "nbformat_minor": 2
}
