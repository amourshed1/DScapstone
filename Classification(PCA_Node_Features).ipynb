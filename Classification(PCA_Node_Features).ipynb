{
 "cells": [
  {
   "cell_type": "markdown",
   "metadata": {},
   "source": [
    "# 1. Load the Saved Correlation Matrices"
   ]
  },
  {
   "cell_type": "code",
   "execution_count": 7,
   "metadata": {},
   "outputs": [
    {
     "name": "stdout",
     "output_type": "stream",
     "text": [
      "correlation: (155, 39, 39)\n",
      "partial correlation: (155, 39, 39)\n",
      "tangent: (155, 39, 39)\n"
     ]
    }
   ],
   "source": [
    "import numpy as np\n",
    "import os\n",
    "\n",
    "# Directory and mapping of types to actual filenames\n",
    "corr_dir = os.path.expanduser(\"~/correlation_matrices\")\n",
    "\n",
    "#The correlation_types dictionary maps the types of correlation matrices to their corresponding file names.\n",
    "correlation_types = {\n",
    "    \"correlation\": \"correlation_correlation_matrices.npz\",\n",
    "    \"partial correlation\": \"partial correlation_correlation_matrices.npz\",\n",
    "    \"tangent\": \"tangent_correlation_matrices.npz\"\n",
    "}\n",
    "\n",
    "correlation_matrices = {}\n",
    "'''\n",
    "Loop through correlation types, load each matrix, \n",
    "and store it in the correlation_matrices dictionary while printing its shape.\n",
    "'''\n",
    " \n",
    "for kind, filename in correlation_types.items():\n",
    "    path = os.path.join(corr_dir, filename)\n",
    "    data = np.load(path)\n",
    "    correlation_matrices[kind] = data[\"matrices\"]\n",
    "    print(f\"{kind}: {correlation_matrices[kind].shape}\")\n"
   ]
  },
  {
   "cell_type": "markdown",
   "metadata": {},
   "source": [
    "Each matrix has the shape (155, 39, 39), which means:\n",
    "\n",
    "- 155 subjects\n",
    "\n",
    "- 39 regions (nodes)\n",
    "\n",
    "- 39 regions (again since its a correlation matrix, indicating the relationship between regions, since it’s a correlation matrix)"
   ]
  },
  {
   "cell_type": "markdown",
   "metadata": {},
   "source": [
    "# 2. Compute PCA-based node features from each subject's correlation matrix"
   ]
  },
  {
   "cell_type": "markdown",
   "metadata": {},
   "source": [
    "- PCA (Principal Component Analysis) is a dimensionality reduction technique. In simple terms, it helps simplify data by reducing the number of features while retaining the most important information.\n",
    "\n",
    "- Here, each region;s correlation matrix (with 39 regions) is reduced into 10 principal components (most important directions of variation) and drops the less important ones."
   ]
  },
  {
   "cell_type": "code",
   "execution_count": 9,
   "metadata": {},
   "outputs": [
    {
     "name": "stdout",
     "output_type": "stream",
     "text": [
      " PCA node features shape: (155, 39, 10)\n"
     ]
    }
   ],
   "source": [
    "from sklearn.decomposition import PCA\n",
    "\n",
    "# Use correlation matrix \n",
    "kind = \"correlation\"\n",
    "matrices = correlation_matrices[kind]  # shape: (155, 39, 39)\n",
    "\n",
    "# Set number of PCA features per node\n",
    "n_components = 10\n",
    "\n",
    "# Store PCA features per subject\n",
    "pca_node_features = []\n",
    "\n",
    "'''\n",
    "For each subject's correlation matrix:\n",
    "We apply PCA on the matrix using pca.fit_transform(subj_matrix).\n",
    "PCA reduces each region's (node's) correlation matrix to 10 features (n_components = 10).\n",
    "'''\n",
    "\n",
    "for subj_matrix in matrices:\n",
    "    pca = PCA(n_components=n_components)\n",
    "    transformed = pca.fit_transform(subj_matrix)  # shape: (39, n_components)\n",
    "    pca_node_features.append(transformed)\n",
    "\n",
    "pca_node_features = np.array(pca_node_features)  # shape: (155, 39, 10)\n",
    "print(\" PCA node features shape:\", pca_node_features.shape)\n"
   ]
  },
  {
   "cell_type": "markdown",
   "metadata": {},
   "source": [
    "- We are reducing the correlation matrix of each subject (with 39 regions) to 10 PCA features per region.\n",
    "\n",
    "- This will help in making the node features more compact and useful for the graph-based classification model (GCN).\n",
    "\n",
    "- Final shape of pca_node_features:\n",
    "   - 155 subjects\n",
    "   - 39 regions/nodes\n",
    "   - 10 PCA features per region"
   ]
  },
  {
   "cell_type": "markdown",
   "metadata": {},
   "source": [
    "# 3. Save Features"
   ]
  },
  {
   "cell_type": "code",
   "execution_count": 12,
   "metadata": {},
   "outputs": [
    {
     "name": "stdout",
     "output_type": "stream",
     "text": [
      " Saved PCA node features to: /Users/anushamourshed/graph_data/correlation_pca_node_features.npz\n"
     ]
    }
   ],
   "source": [
    "# Save PCA node features for \"correlation\"\n",
    "np.savez_compressed(save_path, features=pca_node_features)\n",
    "print(f\" Saved PCA node features to: {save_path}\")\n"
   ]
  },
  {
   "cell_type": "markdown",
   "metadata": {},
   "source": [
    "# 4. Repeat PCA process for partial and tangent correlation"
   ]
  },
  {
   "cell_type": "code",
   "execution_count": 14,
   "metadata": {},
   "outputs": [
    {
     "name": "stdout",
     "output_type": "stream",
     "text": [
      " PCA node features shape for 'partial correlation': (155, 39, 10)\n"
     ]
    }
   ],
   "source": [
    "# Step 4: Compute PCA node features for \"partial correlation\"\n",
    "kind = \"partial correlation\"\n",
    "matrices = correlation_matrices[kind]\n",
    "n_components = 10\n",
    "\n",
    "pca_node_features = []\n",
    "\n",
    "for subj_matrix in matrices:\n",
    "    pca = PCA(n_components=n_components)\n",
    "    transformed = pca.fit_transform(subj_matrix)\n",
    "    pca_node_features.append(transformed)\n",
    "\n",
    "pca_node_features = np.array(pca_node_features)\n",
    "print(f\" PCA node features shape for '{kind}':\", pca_node_features.shape)\n"
   ]
  },
  {
   "cell_type": "code",
   "execution_count": 17,
   "metadata": {},
   "outputs": [
    {
     "name": "stdout",
     "output_type": "stream",
     "text": [
      " Saved PCA node features to: /Users/anushamourshed/graph_data/partial_correlation_pca_node_features.npz\n"
     ]
    }
   ],
   "source": [
    "np.savez_compressed(save_path, features=pca_node_features)\n",
    "print(f\" Saved PCA node features to: {save_path}\")\n"
   ]
  },
  {
   "cell_type": "code",
   "execution_count": 19,
   "metadata": {},
   "outputs": [
    {
     "name": "stdout",
     "output_type": "stream",
     "text": [
      "PCA node features shape for 'tangent': (155, 39, 10)\n"
     ]
    }
   ],
   "source": [
    "# Compute PCA node features for \"tangent\"\n",
    "kind = \"tangent\"\n",
    "matrices = correlation_matrices[kind]\n",
    "n_components = 10\n",
    "\n",
    "pca_node_features = []\n",
    "\n",
    "for subj_matrix in matrices:\n",
    "    pca = PCA(n_components=n_components)\n",
    "    transformed = pca.fit_transform(subj_matrix)\n",
    "    pca_node_features.append(transformed)\n",
    "\n",
    "pca_node_features = np.array(pca_node_features)\n",
    "print(f\"PCA node features shape for '{kind}':\", pca_node_features.shape)\n"
   ]
  },
  {
   "cell_type": "code",
   "execution_count": 22,
   "metadata": {},
   "outputs": [
    {
     "name": "stdout",
     "output_type": "stream",
     "text": [
      "Saved PCA node features to: /Users/anushamourshed/graph_data/tangent_pca_node_features.npz\n"
     ]
    }
   ],
   "source": [
    "np.savez_compressed(save_path, features=pca_node_features)\n",
    "print(f\"Saved PCA node features to: {save_path}\")\n"
   ]
  },
  {
   "cell_type": "markdown",
   "metadata": {},
   "source": [
    "# 5. Define correlation types, threshold values, and load PCA features"
   ]
  },
  {
   "cell_type": "code",
   "execution_count": 23,
   "metadata": {},
   "outputs": [
    {
     "name": "stdout",
     "output_type": "stream",
     "text": [
      "✅ Loaded everything\n"
     ]
    }
   ],
   "source": [
    "import numpy as np\n",
    "import os\n",
    "\n",
    "# Define correlation types and threshold values \n",
    "correlation_types = [\"correlation\", \"partial correlation\", \"tangent\"]\n",
    "threshold_values = [0.2, 0.3, 0.4, 0.5, 0.6, 0.7, 0.8, 0.9]  # adjust if needed\n",
    "\n",
    "# set up Paths for the Matrices and PCA Features\n",
    "corr_dir = os.path.expanduser(\"~/correlation_matrices\") #Correlation matrices path\n",
    "feature_dir = os.path.expanduser(\"~/graph_data\") #PCA node feature path\n",
    "\n",
    "# Load correlation matrices\n",
    "correlation_matrices = {}\n",
    "for kind in correlation_types:\n",
    "    filename = f\"{kind}_correlation_matrices.npz\"\n",
    "    path = os.path.join(corr_dir, filename)\n",
    "    correlation_matrices[kind] = np.load(path)[\"matrices\"]\n",
    "\n",
    "# Load PCA node features\n",
    "pca_node_features = {}\n",
    "for kind in correlation_types:\n",
    "    filename = f\"{kind.replace(' ', '_')}_pca_node_features.npz\"\n",
    "    path = os.path.join(feature_dir, filename)\n",
    "    pca_node_features[kind] = np.load(path)[\"features\"]\n",
    "\n",
    "print(\"✅ Loaded everything\")\n"
   ]
  },
  {
   "cell_type": "markdown",
   "metadata": {},
   "source": [
    "# 6. Convert to graph"
   ]
  },
  {
   "cell_type": "markdown",
   "metadata": {},
   "source": [
    "For each subject, turn their:\n",
    "\n",
    "- Correlation matrix → a graph structure (edges)\n",
    "\n",
    "- PCA features → node attributes\n",
    "\n",
    "- Label → class (child or adult)\n",
    "\n",
    "- into a usable torch_geometric.data.Data object."
   ]
  },
  {
   "cell_type": "code",
   "execution_count": 24,
   "metadata": {},
   "outputs": [],
   "source": [
    "import torch\n",
    "from torch_geometric.data import Data\n",
    "\n",
    "#create a graph for each subject \n",
    "def create_graph_data(adjacency_matrices, node_features, labels, threshold):\n",
    "    graph_data = []\n",
    "    n_subjects = adjacency_matrices.shape[0]\n",
    "\n",
    "    '''\n",
    "    Loop Through Each Subject: \n",
    "    For each subject, you extract the corresponding correlation matrix (adj) \n",
    "    and PCA node features (features)\n",
    "    '''\n",
    "    for i in range(n_subjects):\n",
    "        adj = adjacency_matrices[i]\n",
    "        features = node_features[i]\n",
    "\n",
    "        # Apply threshold (absolute value)\n",
    "        binary_adj = (np.abs(adj) >= threshold).astype(int)\n",
    "\n",
    "        # Remove self-loops\n",
    "        '''\n",
    "        Since a node should not have a connection to itself\n",
    "        we set the diagonal of the adjacency matrix to zero.\n",
    "        '''\n",
    "        np.fill_diagonal(binary_adj, 0)\n",
    "\n",
    "        # Convert adjacency matrix to edge index format \n",
    "        edge_index = np.array(np.nonzero(binary_adj))\n",
    "        edge_index = torch.tensor(edge_index, dtype=torch.long)\n",
    "\n",
    "        # Node features\n",
    "        '''\n",
    "        The PCA node features for the subject are stored as x,\n",
    "        which are converted into a tensor.\n",
    "        '''\n",
    "        x = torch.tensor(features, dtype=torch.float)\n",
    "\n",
    "        # Label\n",
    "        '''\n",
    "        The label for the subject is stored as y,\n",
    "        also converted into a tensor\n",
    "        '''\n",
    "        y = torch.tensor([labels[i]], dtype=torch.long)\n",
    "\n",
    "        # Create PyG graph\n",
    "        data = Data(x=x, edge_index=edge_index, y=y)\n",
    "        graph_data.append(data)\n",
    "\n",
    "    return graph_data\n"
   ]
  },
  {
   "cell_type": "markdown",
   "metadata": {},
   "source": [
    "# 7. Load Labels"
   ]
  },
  {
   "cell_type": "code",
   "execution_count": 25,
   "metadata": {},
   "outputs": [
    {
     "name": "stdout",
     "output_type": "stream",
     "text": [
      "✅ Labels loaded. Shape: (155,)\n",
      "👶 # Children: 122\n",
      "🧑 # Adults: 33\n"
     ]
    }
   ],
   "source": [
    "# Load subject labels (0 = child, 1 = adult)\n",
    "labels_path = os.path.expanduser(\"~/time_series_data/subject_labels.npy\")\n",
    "subject_labels = np.load(labels_path)\n",
    "\n",
    "print(\"✅ Labels loaded. Shape:\", subject_labels.shape)\n",
    "print(\"👶 # Children:\", np.sum(subject_labels == 0))\n",
    "print(\"🧑 # Adults:\", np.sum(subject_labels == 1))\n"
   ]
  },
  {
   "cell_type": "markdown",
   "metadata": {},
   "source": [
    "- 155 subjects\n",
    "- 122 children\n",
    "- 33 adults"
   ]
  },
  {
   "cell_type": "markdown",
   "metadata": {},
   "source": [
    "# 8. Preparing Graph Datasets for All Correlation - Threshold Combinations"
   ]
  },
  {
   "cell_type": "code",
   "execution_count": 26,
   "metadata": {},
   "outputs": [
    {
     "name": "stdout",
     "output_type": "stream",
     "text": [
      "✅ Datasets prepared for 24 combinations\n"
     ]
    }
   ],
   "source": [
    "from sklearn.model_selection import train_test_split\n",
    "\n",
    "# Use this to store all combinations\n",
    "graph_dataset_dict = {}\n",
    "\n",
    "# Use stratified train/test split\n",
    "'''\n",
    "train_idx, test_idx = train_test_split(...) splits the subjects \n",
    "into training and test sets while preserving the ratio of children\n",
    "and adults (stratify=subject_labels).\n",
    "\n",
    "The test_size=0.2 means 20% of the data will be used for testing \n",
    "and the rest will be for training.\n",
    "'''\n",
    "train_idx, test_idx = train_test_split(\n",
    "    np.arange(len(subject_labels)),\n",
    "    test_size=0.2,\n",
    "    stratify=subject_labels,\n",
    "    random_state=42 #controls randomness and sets it to 42 to get same split each time\n",
    ")\n",
    "\n",
    "\n",
    "# loop through all correlation types and threshold values \n",
    "'''\n",
    "For each correlation type (kind) and threshold value, we:\n",
    "- Extract the adjacency matrix (adj) and PCA features (features).\n",
    "- Use the create_graph_data() function to generate all the graphs (subject-wise) \n",
    "based on the adjacency matrix, PCA features, and subject labels.\n",
    "'''\n",
    "for kind in correlation_types:\n",
    "    for threshold in threshold_values:\n",
    "        # Get adjacency and features\n",
    "        adj = correlation_matrices[kind]\n",
    "        features = pca_node_features[kind]\n",
    "\n",
    "        # Create all subject graphs\n",
    "        all_graphs = create_graph_data(adj, features, subject_labels, threshold)\n",
    "\n",
    "        # Split the graphs into training and test sets\n",
    "        train_graphs = [all_graphs[i] for i in train_idx]\n",
    "        test_graphs = [all_graphs[i] for i in test_idx]\n",
    "\n",
    "        # Store the dataset (each combo) in graph_dataset_dict\n",
    "        key = f\"{kind} | thresh={threshold}\"\n",
    "        graph_dataset_dict[key] = {\n",
    "            \"train\": train_graphs,\n",
    "            \"test\": test_graphs\n",
    "        }\n",
    "\n",
    "print(f\"✅ Datasets prepared for {len(graph_dataset_dict)} combinations\")\n"
   ]
  },
  {
   "cell_type": "markdown",
   "metadata": {},
   "source": [
    "- 8 thresholds\n",
    "- 3 correlations \n",
    "- 24 combinations"
   ]
  },
  {
   "cell_type": "markdown",
   "metadata": {},
   "source": [
    "# 9. Defining the GCN Model and Training/Evaluation Pipeline"
   ]
  },
  {
   "cell_type": "markdown",
   "metadata": {},
   "source": [
    "1. GCN Model Structure:\n",
    "The GCN model uses GCNConv layers, which are the core components for graph convolution. The model consists of two layers:\n",
    "\n",
    "- First Layer: Takes the input features (in_channels) and applies a graph convolution to produce hidden features (hidden_channels).\n",
    "\n",
    "- Second Layer: Takes the hidden features and applies a second graph convolution to output the final class predictions (out_channels), which in this case is 2 (for children and adults)."
   ]
  },
  {
   "cell_type": "code",
   "execution_count": 28,
   "metadata": {},
   "outputs": [],
   "source": [
    "import torch.nn as nn\n",
    "import torch.nn.functional as F\n",
    "from torch_geometric.nn import GCNConv\n",
    "from torch_geometric.loader import DataLoader\n",
    "\n",
    "# GCN Model\n",
    "class GCN(nn.Module):\n",
    "    def __init__(self, in_channels, hidden_channels, out_channels):\n",
    "        super(GCN, self).__init__()\n",
    "        self.conv1 = GCNConv(in_channels, hidden_channels)\n",
    "        self.conv2 = GCNConv(hidden_channels, out_channels)\n",
    "\n",
    "    '''\n",
    "    The forward() function defines how data flows through the layers:\n",
    "\n",
    "    The input features x pass through the first and second convolution layers (conv1, conv2), \n",
    "    with ReLU activation (sets negative values to 0) applied between the two layers.\n",
    "    '''\n",
    "    def forward(self, x, edge_index):\n",
    "        x = self.conv1(x, edge_index)\n",
    "        x = F.relu(x)\n",
    "        x = self.conv2(x, edge_index)\n",
    "        return x\n",
    "\n",
    "# Train & evaluate function\n",
    "\n",
    "'''\n",
    "- The model is trained for a fixed number of epochs (epochs), where it processes the train graphs.\n",
    "- For each graph, the optimizer updates the model’s weights to minimize the cross-entropy loss between predicted outputs and actual labels.\n",
    "- After each forward pass, the node outputs are averaged to produce a graph-level prediction (mean over nodes).\n",
    "'''\n",
    "\n",
    "def train_and_evaluate(train_graphs, test_graphs, input_dim, hidden_dim=16, epochs=30):\n",
    "    model = GCN(in_channels=input_dim, hidden_channels=hidden_dim, out_channels=2)\n",
    "    optimizer = torch.optim.Adam(model.parameters(), lr=0.01)\n",
    "    criterion = nn.CrossEntropyLoss()\n",
    "\n",
    "    model.train()\n",
    "    for epoch in range(epochs):\n",
    "        total_loss = 0\n",
    "        for data in train_graphs:\n",
    "            optimizer.zero_grad()\n",
    "            out = model(data.x, data.edge_index)\n",
    "            # Graph classification: take mean over node outputs\n",
    "            out = out.mean(dim=0, keepdim=True)\n",
    "            loss = criterion(out, data.y)\n",
    "            loss.backward()\n",
    "            optimizer.step()\n",
    "            total_loss += loss.item()\n",
    "\n",
    "    # Evaluation\n",
    "\n",
    "    '''\n",
    "    - During evaluation (model.eval()), the model’s weights are frozen (no gradient calculation).\n",
    "    - The predictions are made for the test graphs, and the accuracy is calculated by comparing predicted labels with actual labels.\n",
    "    '''\n",
    "    model.eval()\n",
    "    correct = 0\n",
    "    total = len(test_graphs)\n",
    "    with torch.no_grad():\n",
    "        for data in test_graphs:\n",
    "            out = model(data.x, data.edge_index)\n",
    "            pred = out.mean(dim=0, keepdim=True).argmax(dim=1)\n",
    "            correct += int(pred == data.y)\n",
    "\n",
    "    return correct / total\n"
   ]
  },
  {
   "cell_type": "markdown",
   "metadata": {},
   "source": [
    "# Training and Evaluating the GCN Model on All Graph Dataset Variants"
   ]
  },
  {
   "cell_type": "code",
   "execution_count": 29,
   "metadata": {},
   "outputs": [
    {
     "name": "stdout",
     "output_type": "stream",
     "text": [
      "correlation | thresh=0.2: 🔍 Accuracy = 0.7742\n",
      "correlation | thresh=0.3: 🔍 Accuracy = 0.6774\n",
      "correlation | thresh=0.4: 🔍 Accuracy = 0.6129\n",
      "correlation | thresh=0.5: 🔍 Accuracy = 0.5806\n",
      "correlation | thresh=0.6: 🔍 Accuracy = 0.7419\n",
      "correlation | thresh=0.7: 🔍 Accuracy = 0.7419\n",
      "correlation | thresh=0.8: 🔍 Accuracy = 0.7097\n",
      "correlation | thresh=0.9: 🔍 Accuracy = 0.7742\n",
      "partial correlation | thresh=0.2: 🔍 Accuracy = 0.6774\n",
      "partial correlation | thresh=0.3: 🔍 Accuracy = 0.7742\n",
      "partial correlation | thresh=0.4: 🔍 Accuracy = 0.7742\n",
      "partial correlation | thresh=0.5: 🔍 Accuracy = 0.7742\n",
      "partial correlation | thresh=0.6: 🔍 Accuracy = 0.7742\n",
      "partial correlation | thresh=0.7: 🔍 Accuracy = 0.7742\n",
      "partial correlation | thresh=0.8: 🔍 Accuracy = 0.7742\n",
      "partial correlation | thresh=0.9: 🔍 Accuracy = 0.7742\n",
      "tangent | thresh=0.2: 🔍 Accuracy = 0.7742\n",
      "tangent | thresh=0.3: 🔍 Accuracy = 0.7742\n",
      "tangent | thresh=0.4: 🔍 Accuracy = 0.7742\n",
      "tangent | thresh=0.5: 🔍 Accuracy = 0.7742\n",
      "tangent | thresh=0.6: 🔍 Accuracy = 0.7742\n",
      "tangent | thresh=0.7: 🔍 Accuracy = 0.7742\n",
      "tangent | thresh=0.8: 🔍 Accuracy = 0.7742\n",
      "tangent | thresh=0.9: 🔍 Accuracy = 0.7742\n"
     ]
    }
   ],
   "source": [
    "# stores the accuracy for each combination of correlation type and threshold\n",
    "results = {}\n",
    "\n",
    "# Loop through each combination\n",
    "for combo_key, data in graph_dataset_dict.items():\n",
    "    # train_graphs and test_graphs extracted from graph_dataset_dict\n",
    "    train_graphs = data[\"train\"]\n",
    "    test_graphs = data[\"test\"]\n",
    "\n",
    "    # retrieves the number of features for each node (which is 10 due to PCA)\n",
    "    input_dim = train_graphs[0].x.shape[1]  \n",
    "    '''\n",
    "    The train_and_evaluate() function is called to train and evaluate the model \n",
    "    on the current combination of train graphs and test graphs.\n",
    "     \n",
    "    The result (accuracy) is stored in results under the key combo_key.\n",
    "    '''\n",
    "    accuracy = train_and_evaluate(train_graphs, test_graphs, input_dim)\n",
    "    results[combo_key] = accuracy\n",
    "\n",
    "    print(f\"{combo_key}: 🔍 Accuracy = {accuracy:.4f}\")\n"
   ]
  },
  {
   "cell_type": "markdown",
   "metadata": {},
   "source": [
    "### 🧠 Insights:\n",
    "\n",
    "- Tangent and Partial Correlation give very stable performance — all thresholds hit 77.42%\n",
    "\n",
    "- Full Correlation is more sensitive to thresholds:\n",
    "\n",
    "   - Best: 0.2 and 0.9 = 77.42%\n",
    "\n",
    "   - Worst: 0.5 = 58.06%"
   ]
  },
  {
   "cell_type": "markdown",
   "metadata": {},
   "source": [
    "# Visualize"
   ]
  },
  {
   "cell_type": "code",
   "execution_count": 31,
   "metadata": {},
   "outputs": [
    {
     "data": {
      "image/png": "[encoded data removed]",
      "text/plain": [
       "<Figure size 1200x600 with 1 Axes>"
      ]
     },
     "metadata": {},
     "output_type": "display_data"
    }
   ],
   "source": [
    "import matplotlib.pyplot as plt\n",
    "import numpy as np\n",
    "\n",
    "# Sort threshold values for consistent ordering\n",
    "thresholds = sorted(threshold_values)\n",
    "correlation_types = [\"correlation\", \"partial correlation\", \"tangent\"]\n",
    "\n",
    "# Bar settings\n",
    "bar_width = 0.25\n",
    "x = np.arange(len(thresholds))  # one x-position per threshold\n",
    "\n",
    "# Offset each group on the x axis so bars dont overlap\n",
    "offsets = {\n",
    "    \"correlation\": -bar_width,\n",
    "    \"partial correlation\": 0,\n",
    "    \"tangent\": bar_width\n",
    "}\n",
    "\n",
    "# Plot initialization (12x6)\n",
    "plt.figure(figsize=(12, 6))\n",
    "\n",
    "#loop through each correlation type and retrieve corresponding accuracy for each threshold\n",
    "for kind in correlation_types:\n",
    "    accs = [results[f\"{kind} | thresh={thresh}\"] for thresh in thresholds]\n",
    "    plt.bar(x + offsets[kind], accs, width=bar_width, label=kind)\n",
    "\n",
    "# Axis formatting\n",
    "plt.title(\"Accuracy vs Threshold for Each Correlation Matrix Type\")\n",
    "plt.xlabel(\"Threshold\")\n",
    "plt.ylabel(\"Accuracy\")\n",
    "plt.xticks(x, thresholds)\n",
    "plt.ylim(0.5, 0.85)\n",
    "plt.grid(axis='y', linestyle='--', alpha=0.7)\n",
    "plt.legend(title=\"Correlation Type\")\n",
    "plt.tight_layout()\n",
    "plt.show()\n"
   ]
  },
  {
   "cell_type": "markdown",
   "metadata": {},
   "source": [
    "The key difference between PCA in the original notebook and the PCA on node features in this notebook lies in the input data and the context in which PCA is applied:\n",
    "\n",
    "1. PCA in the Original Notebook:\n",
    "In the original notebook, PCA was applied on time-series data for each subject (across time). Specifically, it was used to reduce the dimensionality of the time-series data for each brain region (node).\n",
    "\n",
    "- Input: Time-series data for each subject (with shape (timepoints, regions)).\n",
    "\n",
    "- Objective: Reduce the temporal dimension (time) and extract the most important temporal features for each brain region (node) across time.\n",
    "\n",
    "- Result: A compressed representation of temporal patterns in each brain region.\n",
    "\n",
    "2. PCA on Node Features in the Current Notebook:\n",
    "In the current notebook, PCA is applied to the correlation matrices (computed from the original time-series data) to reduce the dimensionality of the features per node.\n",
    "\n",
    "- Input: Correlation matrices for each subject (with shape (regions, regions)), which represent the relationships between regions across time.\n",
    "\n",
    "- Objective: Reduce the dimensionality of the correlation matrix for each subject, where each node represents a brain region. This helps in making the graph-based classification task more efficient by focusing on the most significant relationships (features) between regions.\n",
    "\n",
    "- Result: A set of PCA features for each node (region), which are used as input to the GCN."
   ]
  },
  {
   "cell_type": "markdown",
   "metadata": {},
   "source": [
    "Original PCA is reducing time-series data to focus on temporal patterns.\n",
    "\n",
    "Current PCA is reducing the correlation matrix to create compact node features for graph classification."
   ]
  }
 ],
 "metadata": {
  "kernelspec": {
   "display_name": "Python 3.11.9 ('capstone')",
   "language": "python",
   "name": "python3"
  },
  "language_info": {
   "codemirror_mode": {
    "name": "ipython",
    "version": 3
   },
   "file_extension": ".py",
   "mimetype": "text/x-python",
   "name": "python",
   "nbconvert_exporter": "python",
   "pygments_lexer": "ipython3",
   "version": "3.11.9"
  },
  "orig_nbformat": 4,
  "vscode": {
   "interpreter": {
    "hash": "61c12dabc53b3c38026121b5b57a874e2c527979eaaf65ce1b82c6f270ed05c3"
   }
  }
 },
 "nbformat": 4,
 "nbformat_minor": 2
}
